{
 "cells": [
  {
   "cell_type": "code",
   "execution_count": null,
   "metadata": {},
   "outputs": [],
   "source": [
    "import cv2\n",
    "\n",
    "# Load an image in grayscale\n",
    "image = cv2.imread('2.png', cv2.IMREAD_GRAYSCALE)\n",
    "\n",
    "# Convert the image to binary representation\n",
    "binary_image = [[bin(pixel)[2:].zfill(8) for pixel in row] for row in image]\n",
    "\n",
    "# Print the binary representation\n",
    "for row in binary_image:\n",
    "    print(' '.join(row))\n"
   ]
  },
  {
   "cell_type": "code",
   "execution_count": null,
   "metadata": {},
   "outputs": [],
   "source": []
  }
 ],
 "metadata": {
  "language_info": {
   "name": "python"
  }
 },
 "nbformat": 4,
 "nbformat_minor": 2
}
